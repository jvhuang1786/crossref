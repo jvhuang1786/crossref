{
 "cells": [
  {
   "cell_type": "markdown",
   "metadata": {},
   "source": [
    "Extended Tasks\n",
    "\n",
    " * Basic problem statement\n",
    "      * which month had the most animal articles in the past year, published in the past year\n",
    "          * published-print\n",
    "          * published-online \n",
    "\n"
   ]
  },
  {
   "cell_type": "code",
   "execution_count": 1,
   "metadata": {},
   "outputs": [],
   "source": [
    "import pandas as pd\n",
    "import numpy as np"
   ]
  },
  {
   "cell_type": "code",
   "execution_count": 3,
   "metadata": {},
   "outputs": [],
   "source": [
    "#load in the files collected by the API from the other jupyter notebook \n",
    "df = pd.read_json('craig2nd_test.json')"
   ]
  },
  {
   "cell_type": "code",
   "execution_count": 5,
   "metadata": {},
   "outputs": [
    {
     "data": {
      "text/html": [
       "<div>\n",
       "<style scoped>\n",
       "    .dataframe tbody tr th:only-of-type {\n",
       "        vertical-align: middle;\n",
       "    }\n",
       "\n",
       "    .dataframe tbody tr th {\n",
       "        vertical-align: top;\n",
       "    }\n",
       "\n",
       "    .dataframe thead th {\n",
       "        text-align: right;\n",
       "    }\n",
       "</style>\n",
       "<table border=\"1\" class=\"dataframe\">\n",
       "  <thead>\n",
       "    <tr style=\"text-align: right;\">\n",
       "      <th></th>\n",
       "      <th>title</th>\n",
       "      <th>DOI</th>\n",
       "      <th>publisher_online</th>\n",
       "      <th>publisher_print</th>\n",
       "      <th>created</th>\n",
       "      <th>url</th>\n",
       "      <th>score</th>\n",
       "      <th>page</th>\n",
       "      <th>ISSN</th>\n",
       "      <th>subject</th>\n",
       "      <th>author_first</th>\n",
       "      <th>author_last</th>\n",
       "      <th>lang</th>\n",
       "      <th>container_title</th>\n",
       "    </tr>\n",
       "  </thead>\n",
       "  <tbody>\n",
       "    <tr>\n",
       "      <th>7272</th>\n",
       "      <td>[Growth Management of Marecha Camel (Camelus d...</td>\n",
       "      <td>10.17582/journal.aavs/2020/8.11.1114.1119</td>\n",
       "      <td>{'date-parts': [[2020, 8]]}</td>\n",
       "      <td>{'date-parts': [[2020]]}</td>\n",
       "      <td>1598993795000</td>\n",
       "      <td>http://dx.doi.org/10.17582/journal.aavs/2020/8...</td>\n",
       "      <td>4.206729</td>\n",
       "      <td>none</td>\n",
       "      <td>[2307-8316]</td>\n",
       "      <td>none</td>\n",
       "      <td>[Asim, Muhammad, Abdul, Nasir Ali, Muhammad Sh...</td>\n",
       "      <td>[Faraz, Younas, Waheed, Tauqir, Nabeel, Mirza,...</td>\n",
       "      <td>none</td>\n",
       "      <td>[Advances in Animal and Veterinary Sciences]</td>\n",
       "    </tr>\n",
       "    <tr>\n",
       "      <th>7269</th>\n",
       "      <td>[Association between Bovine Leukemia Virus Inf...</td>\n",
       "      <td>10.17582/journal.aavs/2020/8.11.1109.1113</td>\n",
       "      <td>{'date-parts': [[2020, 8]]}</td>\n",
       "      <td>{'date-parts': [[2020]]}</td>\n",
       "      <td>1598993795000</td>\n",
       "      <td>http://dx.doi.org/10.17582/journal.aavs/2020/8...</td>\n",
       "      <td>4.206729</td>\n",
       "      <td>none</td>\n",
       "      <td>[2307-8316]</td>\n",
       "      <td>none</td>\n",
       "      <td>[Eman A., Marawan A., Abdelhamed, Abdelfattah]</td>\n",
       "      <td>[Manaa, Marawan, Abdelhady, Selim]</td>\n",
       "      <td>none</td>\n",
       "      <td>[Advances in Animal and Veterinary Sciences]</td>\n",
       "    </tr>\n",
       "    <tr>\n",
       "      <th>7274</th>\n",
       "      <td>[Slow Release Rbst Administration During the T...</td>\n",
       "      <td>10.17582/journal.aavs/2020/8.10.1079.1086</td>\n",
       "      <td>{'date-parts': [[2020, 8]]}</td>\n",
       "      <td>{'date-parts': [[2020]]}</td>\n",
       "      <td>1598993428000</td>\n",
       "      <td>http://dx.doi.org/10.17582/journal.aavs/2020/8...</td>\n",
       "      <td>3.591738</td>\n",
       "      <td>none</td>\n",
       "      <td>[2307-8316]</td>\n",
       "      <td>none</td>\n",
       "      <td>[Jefferson R., Tiago A. Dell, Caio S., Erika R...</td>\n",
       "      <td>[Gandra, Vale, Takiya, Gandra, Oliveira, Goes,...</td>\n",
       "      <td>none</td>\n",
       "      <td>[Advances in Animal and Veterinary Sciences]</td>\n",
       "    </tr>\n",
       "    <tr>\n",
       "      <th>7268</th>\n",
       "      <td>[Bone Marrow Metastasis in Inflammatory Mammar...</td>\n",
       "      <td>10.17582/journal.aavs/2020/8.10.1087.1090</td>\n",
       "      <td>{'date-parts': [[2020, 8]]}</td>\n",
       "      <td>{'date-parts': [[2020]]}</td>\n",
       "      <td>1598993428000</td>\n",
       "      <td>http://dx.doi.org/10.17582/journal.aavs/2020/8...</td>\n",
       "      <td>4.206729</td>\n",
       "      <td>none</td>\n",
       "      <td>[2307-8316]</td>\n",
       "      <td>none</td>\n",
       "      <td>[Miriã R. de, Tatiany L., Rubens A., Gleidice ...</td>\n",
       "      <td>[Oliveira, Silveira, Carneiro, Lavalle, Rodrig...</td>\n",
       "      <td>none</td>\n",
       "      <td>[Advances in Animal and Veterinary Sciences]</td>\n",
       "    </tr>\n",
       "    <tr>\n",
       "      <th>7275</th>\n",
       "      <td>[Assessment of Reproductive Efficiency and Her...</td>\n",
       "      <td>10.17582/journal.aavs/2020/8.10.1100.1108</td>\n",
       "      <td>{'date-parts': [[2020, 8]]}</td>\n",
       "      <td>{'date-parts': [[2020]]}</td>\n",
       "      <td>1598993428000</td>\n",
       "      <td>http://dx.doi.org/10.17582/journal.aavs/2020/8...</td>\n",
       "      <td>4.206729</td>\n",
       "      <td>none</td>\n",
       "      <td>[2307-8316]</td>\n",
       "      <td>none</td>\n",
       "      <td>[Hassan Mohamed, Abdirahman Bare, Muscub Moham...</td>\n",
       "      <td>[Hassan, Dubad, Muse, Ali, Ali]</td>\n",
       "      <td>none</td>\n",
       "      <td>[Advances in Animal and Veterinary Sciences]</td>\n",
       "    </tr>\n",
       "  </tbody>\n",
       "</table>\n",
       "</div>"
      ],
      "text/plain": [
       "                                                  title  \\\n",
       "7272  [Growth Management of Marecha Camel (Camelus d...   \n",
       "7269  [Association between Bovine Leukemia Virus Inf...   \n",
       "7274  [Slow Release Rbst Administration During the T...   \n",
       "7268  [Bone Marrow Metastasis in Inflammatory Mammar...   \n",
       "7275  [Assessment of Reproductive Efficiency and Her...   \n",
       "\n",
       "                                            DOI             publisher_online  \\\n",
       "7272  10.17582/journal.aavs/2020/8.11.1114.1119  {'date-parts': [[2020, 8]]}   \n",
       "7269  10.17582/journal.aavs/2020/8.11.1109.1113  {'date-parts': [[2020, 8]]}   \n",
       "7274  10.17582/journal.aavs/2020/8.10.1079.1086  {'date-parts': [[2020, 8]]}   \n",
       "7268  10.17582/journal.aavs/2020/8.10.1087.1090  {'date-parts': [[2020, 8]]}   \n",
       "7275  10.17582/journal.aavs/2020/8.10.1100.1108  {'date-parts': [[2020, 8]]}   \n",
       "\n",
       "               publisher_print        created  \\\n",
       "7272  {'date-parts': [[2020]]}  1598993795000   \n",
       "7269  {'date-parts': [[2020]]}  1598993795000   \n",
       "7274  {'date-parts': [[2020]]}  1598993428000   \n",
       "7268  {'date-parts': [[2020]]}  1598993428000   \n",
       "7275  {'date-parts': [[2020]]}  1598993428000   \n",
       "\n",
       "                                                    url     score  page  \\\n",
       "7272  http://dx.doi.org/10.17582/journal.aavs/2020/8...  4.206729  none   \n",
       "7269  http://dx.doi.org/10.17582/journal.aavs/2020/8...  4.206729  none   \n",
       "7274  http://dx.doi.org/10.17582/journal.aavs/2020/8...  3.591738  none   \n",
       "7268  http://dx.doi.org/10.17582/journal.aavs/2020/8...  4.206729  none   \n",
       "7275  http://dx.doi.org/10.17582/journal.aavs/2020/8...  4.206729  none   \n",
       "\n",
       "             ISSN subject                                       author_first  \\\n",
       "7272  [2307-8316]    none  [Asim, Muhammad, Abdul, Nasir Ali, Muhammad Sh...   \n",
       "7269  [2307-8316]    none     [Eman A., Marawan A., Abdelhamed, Abdelfattah]   \n",
       "7274  [2307-8316]    none  [Jefferson R., Tiago A. Dell, Caio S., Erika R...   \n",
       "7268  [2307-8316]    none  [Miriã R. de, Tatiany L., Rubens A., Gleidice ...   \n",
       "7275  [2307-8316]    none  [Hassan Mohamed, Abdirahman Bare, Muscub Moham...   \n",
       "\n",
       "                                            author_last  lang  \\\n",
       "7272  [Faraz, Younas, Waheed, Tauqir, Nabeel, Mirza,...  none   \n",
       "7269                 [Manaa, Marawan, Abdelhady, Selim]  none   \n",
       "7274  [Gandra, Vale, Takiya, Gandra, Oliveira, Goes,...  none   \n",
       "7268  [Oliveira, Silveira, Carneiro, Lavalle, Rodrig...  none   \n",
       "7275                    [Hassan, Dubad, Muse, Ali, Ali]  none   \n",
       "\n",
       "                                   container_title  \n",
       "7272  [Advances in Animal and Veterinary Sciences]  \n",
       "7269  [Advances in Animal and Veterinary Sciences]  \n",
       "7274  [Advances in Animal and Veterinary Sciences]  \n",
       "7268  [Advances in Animal and Veterinary Sciences]  \n",
       "7275  [Advances in Animal and Veterinary Sciences]  "
      ]
     },
     "execution_count": 5,
     "metadata": {},
     "output_type": "execute_result"
    }
   ],
   "source": [
    "#look at data \n",
    "df.head()"
   ]
  },
  {
   "cell_type": "markdown",
   "metadata": {},
   "source": [
    "# Publisher Online"
   ]
  },
  {
   "cell_type": "code",
   "execution_count": 13,
   "metadata": {},
   "outputs": [],
   "source": [
    "#main issue was some of the publisher_online didn't have months\n",
    "#we would only want stuff for this year as well the published_online is different from the created date\n",
    "#which is how we collected the initial information \n",
    "publisher_date = []\n",
    "for x in range(len(df['publisher_online'])):\n",
    "    try:\n",
    "        publisher_date.append(df['publisher_online'][x]['date-parts'][0])\n",
    "    except:\n",
    "        publisher_date.append('none')"
   ]
  },
  {
   "cell_type": "code",
   "execution_count": 16,
   "metadata": {},
   "outputs": [],
   "source": [
    "#make new data frame \n",
    "df2 = pd.DataFrame(publisher_date)"
   ]
  },
  {
   "cell_type": "code",
   "execution_count": 19,
   "metadata": {},
   "outputs": [],
   "source": [
    "#rename columns \n",
    "df2 = df2.rename(columns = {0:'year', 1: 'month', 2: 'day'})"
   ]
  },
  {
   "cell_type": "code",
   "execution_count": 22,
   "metadata": {},
   "outputs": [],
   "source": [
    "#drop useless column \n",
    "df2 = df2.drop(columns = 3)"
   ]
  },
  {
   "cell_type": "code",
   "execution_count": 23,
   "metadata": {},
   "outputs": [
    {
     "data": {
      "text/html": [
       "<div>\n",
       "<style scoped>\n",
       "    .dataframe tbody tr th:only-of-type {\n",
       "        vertical-align: middle;\n",
       "    }\n",
       "\n",
       "    .dataframe tbody tr th {\n",
       "        vertical-align: top;\n",
       "    }\n",
       "\n",
       "    .dataframe thead th {\n",
       "        text-align: right;\n",
       "    }\n",
       "</style>\n",
       "<table border=\"1\" class=\"dataframe\">\n",
       "  <thead>\n",
       "    <tr style=\"text-align: right;\">\n",
       "      <th></th>\n",
       "      <th>year</th>\n",
       "      <th>month</th>\n",
       "      <th>day</th>\n",
       "    </tr>\n",
       "  </thead>\n",
       "  <tbody>\n",
       "    <tr>\n",
       "      <th>0</th>\n",
       "      <td>2020</td>\n",
       "      <td>5</td>\n",
       "      <td>5</td>\n",
       "    </tr>\n",
       "    <tr>\n",
       "      <th>1</th>\n",
       "      <td>2020</td>\n",
       "      <td>5</td>\n",
       "      <td>5</td>\n",
       "    </tr>\n",
       "    <tr>\n",
       "      <th>2</th>\n",
       "      <td>2020</td>\n",
       "      <td>5</td>\n",
       "      <td>5</td>\n",
       "    </tr>\n",
       "    <tr>\n",
       "      <th>3</th>\n",
       "      <td>2020</td>\n",
       "      <td>5</td>\n",
       "      <td>5</td>\n",
       "    </tr>\n",
       "    <tr>\n",
       "      <th>4</th>\n",
       "      <td>2020</td>\n",
       "      <td>5</td>\n",
       "      <td>5</td>\n",
       "    </tr>\n",
       "  </tbody>\n",
       "</table>\n",
       "</div>"
      ],
      "text/plain": [
       "   year month day\n",
       "0  2020     5   5\n",
       "1  2020     5   5\n",
       "2  2020     5   5\n",
       "3  2020     5   5\n",
       "4  2020     5   5"
      ]
     },
     "execution_count": 23,
     "metadata": {},
     "output_type": "execute_result"
    }
   ],
   "source": [
    "#look at new dataframe \n",
    "df2.head()"
   ]
  },
  {
   "cell_type": "code",
   "execution_count": 25,
   "metadata": {},
   "outputs": [],
   "source": [
    "#keep 2020 year only \n",
    "df2020 = df2[df2['year'] == 2020]"
   ]
  },
  {
   "cell_type": "code",
   "execution_count": 29,
   "metadata": {},
   "outputs": [],
   "source": [
    "#drop the none 'n' out \n",
    "df2020v2 = df2020[df2020['month'] != 'n']"
   ]
  },
  {
   "cell_type": "code",
   "execution_count": 31,
   "metadata": {},
   "outputs": [],
   "source": [
    "from collections import Counter"
   ]
  },
  {
   "cell_type": "code",
   "execution_count": 37,
   "metadata": {},
   "outputs": [],
   "source": [
    "#sort the count\n",
    "article_month = pd.DataFrame(Counter(df2020v2['month']).items()).sort_values(by = 1, ascending = False)"
   ]
  },
  {
   "cell_type": "code",
   "execution_count": 41,
   "metadata": {},
   "outputs": [],
   "source": [
    "#get rid of the nones\n",
    "article_month[0] = article_month[0].replace(np.nan, 'none')\n",
    "article_month = article_month[article_month[0] != 'none']"
   ]
  },
  {
   "cell_type": "code",
   "execution_count": 49,
   "metadata": {},
   "outputs": [],
   "source": [
    "#for visualization \n",
    "import matplotlib.pyplot as plt\n",
    "plt.style.use('fivethirtyeight')"
   ]
  },
  {
   "cell_type": "code",
   "execution_count": 57,
   "metadata": {},
   "outputs": [],
   "source": [
    "#rename columns \n",
    "article_month = article_month.rename(columns = {0:'month', 1:'count'})"
   ]
  },
  {
   "cell_type": "code",
   "execution_count": 69,
   "metadata": {},
   "outputs": [],
   "source": [
    "#reset the index \n",
    "article_month = article_month.reset_index(drop = True)"
   ]
  },
  {
   "cell_type": "code",
   "execution_count": 70,
   "metadata": {},
   "outputs": [
    {
     "data": {
      "text/html": [
       "<div>\n",
       "<style scoped>\n",
       "    .dataframe tbody tr th:only-of-type {\n",
       "        vertical-align: middle;\n",
       "    }\n",
       "\n",
       "    .dataframe tbody tr th {\n",
       "        vertical-align: top;\n",
       "    }\n",
       "\n",
       "    .dataframe thead th {\n",
       "        text-align: right;\n",
       "    }\n",
       "</style>\n",
       "<table border=\"1\" class=\"dataframe\">\n",
       "  <thead>\n",
       "    <tr style=\"text-align: right;\">\n",
       "      <th></th>\n",
       "      <th>month</th>\n",
       "      <th>count</th>\n",
       "    </tr>\n",
       "  </thead>\n",
       "  <tbody>\n",
       "    <tr>\n",
       "      <th>0</th>\n",
       "      <td>6</td>\n",
       "      <td>1147</td>\n",
       "    </tr>\n",
       "    <tr>\n",
       "      <th>1</th>\n",
       "      <td>8</td>\n",
       "      <td>1004</td>\n",
       "    </tr>\n",
       "    <tr>\n",
       "      <th>2</th>\n",
       "      <td>4</td>\n",
       "      <td>975</td>\n",
       "    </tr>\n",
       "    <tr>\n",
       "      <th>3</th>\n",
       "      <td>1</td>\n",
       "      <td>913</td>\n",
       "    </tr>\n",
       "    <tr>\n",
       "      <th>4</th>\n",
       "      <td>7</td>\n",
       "      <td>908</td>\n",
       "    </tr>\n",
       "    <tr>\n",
       "      <th>5</th>\n",
       "      <td>2</td>\n",
       "      <td>884</td>\n",
       "    </tr>\n",
       "    <tr>\n",
       "      <th>6</th>\n",
       "      <td>5</td>\n",
       "      <td>846</td>\n",
       "    </tr>\n",
       "    <tr>\n",
       "      <th>7</th>\n",
       "      <td>3</td>\n",
       "      <td>844</td>\n",
       "    </tr>\n",
       "    <tr>\n",
       "      <th>8</th>\n",
       "      <td>9</td>\n",
       "      <td>36</td>\n",
       "    </tr>\n",
       "    <tr>\n",
       "      <th>9</th>\n",
       "      <td>12</td>\n",
       "      <td>23</td>\n",
       "    </tr>\n",
       "    <tr>\n",
       "      <th>10</th>\n",
       "      <td>10</td>\n",
       "      <td>1</td>\n",
       "    </tr>\n",
       "  </tbody>\n",
       "</table>\n",
       "</div>"
      ],
      "text/plain": [
       "   month  count\n",
       "0      6   1147\n",
       "1      8   1004\n",
       "2      4    975\n",
       "3      1    913\n",
       "4      7    908\n",
       "5      2    884\n",
       "6      5    846\n",
       "7      3    844\n",
       "8      9     36\n",
       "9     12     23\n",
       "10    10      1"
      ]
     },
     "execution_count": 70,
     "metadata": {},
     "output_type": "execute_result"
    }
   ],
   "source": [
    "#showing the count per month \n",
    "article_month"
   ]
  },
  {
   "cell_type": "code",
   "execution_count": 137,
   "metadata": {},
   "outputs": [
    {
     "data": {
      "image/png": "[encoded data removed]",
      "text/plain": [
       "<Figure size 720x360 with 1 Axes>"
      ]
     },
     "metadata": {},
     "output_type": "display_data"
    }
   ],
   "source": [
    "#visualizaton \n",
    "plt.figure(figsize = (10,5))\n",
    "plt.barh(article_month['month'],article_month['count'])\n",
    "plt.title('Number of publish_online for each Month')\n",
    "plt.yticks(range(0,13));"
   ]
  },
  {
   "cell_type": "markdown",
   "metadata": {},
   "source": [
    "# Publisher Print"
   ]
  },
  {
   "cell_type": "code",
   "execution_count": 71,
   "metadata": {},
   "outputs": [],
   "source": [
    "#write for loop to pull out publisher date \n",
    "publisher_date_print = []\n",
    "for x in range(len(df['publisher_print'])):\n",
    "    try:\n",
    "        publisher_date_print.append(df['publisher_print'][x]['date-parts'][0])\n",
    "    except:\n",
    "        publisher_date_print.append('none')"
   ]
  },
  {
   "cell_type": "code",
   "execution_count": 74,
   "metadata": {},
   "outputs": [],
   "source": [
    "#change to dataframe\n",
    "publish_print_df = pd.DataFrame(publisher_date_print)"
   ]
  },
  {
   "cell_type": "code",
   "execution_count": 81,
   "metadata": {},
   "outputs": [],
   "source": [
    "#get rid of nones \n",
    "publish_print_df = publish_print_df[publish_print_df[0] != 'none']"
   ]
  },
  {
   "cell_type": "code",
   "execution_count": 83,
   "metadata": {},
   "outputs": [
    {
     "data": {
      "text/html": [
       "<div>\n",
       "<style scoped>\n",
       "    .dataframe tbody tr th:only-of-type {\n",
       "        vertical-align: middle;\n",
       "    }\n",
       "\n",
       "    .dataframe tbody tr th {\n",
       "        vertical-align: top;\n",
       "    }\n",
       "\n",
       "    .dataframe thead th {\n",
       "        text-align: right;\n",
       "    }\n",
       "</style>\n",
       "<table border=\"1\" class=\"dataframe\">\n",
       "  <thead>\n",
       "    <tr style=\"text-align: right;\">\n",
       "      <th></th>\n",
       "      <th>0</th>\n",
       "    </tr>\n",
       "  </thead>\n",
       "  <tbody>\n",
       "    <tr>\n",
       "      <th>5</th>\n",
       "      <td>[2020]</td>\n",
       "    </tr>\n",
       "    <tr>\n",
       "      <th>6</th>\n",
       "      <td>[2020, 1, 31]</td>\n",
       "    </tr>\n",
       "    <tr>\n",
       "      <th>7</th>\n",
       "      <td>[2020, 1, 31]</td>\n",
       "    </tr>\n",
       "    <tr>\n",
       "      <th>10</th>\n",
       "      <td>[2020, 5, 5]</td>\n",
       "    </tr>\n",
       "    <tr>\n",
       "      <th>14</th>\n",
       "      <td>[2018, 6, 30]</td>\n",
       "    </tr>\n",
       "    <tr>\n",
       "      <th>...</th>\n",
       "      <td>...</td>\n",
       "    </tr>\n",
       "    <tr>\n",
       "      <th>14826</th>\n",
       "      <td>[2020, 2]</td>\n",
       "    </tr>\n",
       "    <tr>\n",
       "      <th>14827</th>\n",
       "      <td>[1997]</td>\n",
       "    </tr>\n",
       "    <tr>\n",
       "      <th>14829</th>\n",
       "      <td>[1992]</td>\n",
       "    </tr>\n",
       "    <tr>\n",
       "      <th>14830</th>\n",
       "      <td>[1977]</td>\n",
       "    </tr>\n",
       "    <tr>\n",
       "      <th>14831</th>\n",
       "      <td>[2020, 7]</td>\n",
       "    </tr>\n",
       "  </tbody>\n",
       "</table>\n",
       "<p>9988 rows × 1 columns</p>\n",
       "</div>"
      ],
      "text/plain": [
       "                   0\n",
       "5             [2020]\n",
       "6      [2020, 1, 31]\n",
       "7      [2020, 1, 31]\n",
       "10      [2020, 5, 5]\n",
       "14     [2018, 6, 30]\n",
       "...              ...\n",
       "14826      [2020, 2]\n",
       "14827         [1997]\n",
       "14829         [1992]\n",
       "14830         [1977]\n",
       "14831      [2020, 7]\n",
       "\n",
       "[9988 rows x 1 columns]"
      ]
     },
     "execution_count": 83,
     "metadata": {},
     "output_type": "execute_result"
    }
   ],
   "source": [
    "#inspect \n",
    "publish_print_df"
   ]
  },
  {
   "cell_type": "code",
   "execution_count": 87,
   "metadata": {},
   "outputs": [
    {
     "name": "stderr",
     "output_type": "stream",
     "text": [
      "<ipython-input-87-1c54ab6e1e30>:1: SettingWithCopyWarning: \n",
      "A value is trying to be set on a copy of a slice from a DataFrame.\n",
      "Try using .loc[row_indexer,col_indexer] = value instead\n",
      "\n",
      "See the caveats in the documentation: https://pandas.pydata.org/pandas-docs/stable/user_guide/indexing.html#returning-a-view-versus-a-copy\n",
      "  publish_print_df[0] = [','.join(map(str, l)) for l in publish_print_df[0]]\n"
     ]
    }
   ],
   "source": [
    "#list to strings\n",
    "publish_print_df[0] = [','.join(map(str, l)) for l in publish_print_df[0]]"
   ]
  },
  {
   "cell_type": "code",
   "execution_count": 136,
   "metadata": {},
   "outputs": [
    {
     "data": {
      "text/html": [
       "<div>\n",
       "<style scoped>\n",
       "    .dataframe tbody tr th:only-of-type {\n",
       "        vertical-align: middle;\n",
       "    }\n",
       "\n",
       "    .dataframe tbody tr th {\n",
       "        vertical-align: top;\n",
       "    }\n",
       "\n",
       "    .dataframe thead th {\n",
       "        text-align: right;\n",
       "    }\n",
       "</style>\n",
       "<table border=\"1\" class=\"dataframe\">\n",
       "  <thead>\n",
       "    <tr style=\"text-align: right;\">\n",
       "      <th></th>\n",
       "      <th>0</th>\n",
       "    </tr>\n",
       "  </thead>\n",
       "  <tbody>\n",
       "    <tr>\n",
       "      <th>5</th>\n",
       "      <td>2020</td>\n",
       "    </tr>\n",
       "    <tr>\n",
       "      <th>6</th>\n",
       "      <td>2020,1,31</td>\n",
       "    </tr>\n",
       "    <tr>\n",
       "      <th>7</th>\n",
       "      <td>2020,1,31</td>\n",
       "    </tr>\n",
       "    <tr>\n",
       "      <th>10</th>\n",
       "      <td>2020,5,5</td>\n",
       "    </tr>\n",
       "    <tr>\n",
       "      <th>14</th>\n",
       "      <td>2018,6,30</td>\n",
       "    </tr>\n",
       "  </tbody>\n",
       "</table>\n",
       "</div>"
      ],
      "text/plain": [
       "            0\n",
       "5        2020\n",
       "6   2020,1,31\n",
       "7   2020,1,31\n",
       "10   2020,5,5\n",
       "14  2018,6,30"
      ]
     },
     "execution_count": 136,
     "metadata": {},
     "output_type": "execute_result"
    }
   ],
   "source": [
    "#inspect\n",
    "publish_print_df.head()"
   ]
  },
  {
   "cell_type": "code",
   "execution_count": 90,
   "metadata": {},
   "outputs": [],
   "source": [
    "#expand out columns for year month and day\n",
    "data = publish_print_df[0].str.split(',', expand=True)"
   ]
  },
  {
   "cell_type": "code",
   "execution_count": 92,
   "metadata": {},
   "outputs": [],
   "source": [
    "#rename columns \n",
    "data = data.rename(columns = {0: 'year', 1: 'month', 2: 'day'})"
   ]
  },
  {
   "cell_type": "code",
   "execution_count": 116,
   "metadata": {},
   "outputs": [],
   "source": [
    "#collect only 2020\n",
    "datav2 = data[data['year'] == '2020'].reset_index(drop = True)"
   ]
  },
  {
   "cell_type": "code",
   "execution_count": 126,
   "metadata": {},
   "outputs": [],
   "source": [
    "#get rid of nones\n",
    "datav2 = datav2.fillna('none')"
   ]
  },
  {
   "cell_type": "code",
   "execution_count": 127,
   "metadata": {},
   "outputs": [],
   "source": [
    "#choose rows that aren't none\n",
    "datav3 = datav2[datav2['month'] != 'none']"
   ]
  },
  {
   "cell_type": "code",
   "execution_count": 133,
   "metadata": {},
   "outputs": [],
   "source": [
    "#rename and do the count\n",
    "df_count = pd.DataFrame(Counter(datav3['month']).items()).sort_values(by = 1, ascending = False)\n",
    "df_count = df_count.rename(columns ={0:'month', 1: 'count'})"
   ]
  },
  {
   "cell_type": "code",
   "execution_count": 134,
   "metadata": {},
   "outputs": [
    {
     "data": {
      "text/html": [
       "<div>\n",
       "<style scoped>\n",
       "    .dataframe tbody tr th:only-of-type {\n",
       "        vertical-align: middle;\n",
       "    }\n",
       "\n",
       "    .dataframe tbody tr th {\n",
       "        vertical-align: top;\n",
       "    }\n",
       "\n",
       "    .dataframe thead th {\n",
       "        text-align: right;\n",
       "    }\n",
       "</style>\n",
       "<table border=\"1\" class=\"dataframe\">\n",
       "  <thead>\n",
       "    <tr style=\"text-align: right;\">\n",
       "      <th></th>\n",
       "      <th>month</th>\n",
       "      <th>count</th>\n",
       "    </tr>\n",
       "  </thead>\n",
       "  <tbody>\n",
       "    <tr>\n",
       "      <th>5</th>\n",
       "      <td>6</td>\n",
       "      <td>862</td>\n",
       "    </tr>\n",
       "    <tr>\n",
       "      <th>8</th>\n",
       "      <td>7</td>\n",
       "      <td>786</td>\n",
       "    </tr>\n",
       "    <tr>\n",
       "      <th>4</th>\n",
       "      <td>4</td>\n",
       "      <td>685</td>\n",
       "    </tr>\n",
       "    <tr>\n",
       "      <th>3</th>\n",
       "      <td>3</td>\n",
       "      <td>667</td>\n",
       "    </tr>\n",
       "    <tr>\n",
       "      <th>1</th>\n",
       "      <td>5</td>\n",
       "      <td>641</td>\n",
       "    </tr>\n",
       "    <tr>\n",
       "      <th>6</th>\n",
       "      <td>8</td>\n",
       "      <td>617</td>\n",
       "    </tr>\n",
       "    <tr>\n",
       "      <th>9</th>\n",
       "      <td>9</td>\n",
       "      <td>535</td>\n",
       "    </tr>\n",
       "    <tr>\n",
       "      <th>2</th>\n",
       "      <td>12</td>\n",
       "      <td>510</td>\n",
       "    </tr>\n",
       "    <tr>\n",
       "      <th>0</th>\n",
       "      <td>1</td>\n",
       "      <td>450</td>\n",
       "    </tr>\n",
       "    <tr>\n",
       "      <th>7</th>\n",
       "      <td>2</td>\n",
       "      <td>350</td>\n",
       "    </tr>\n",
       "    <tr>\n",
       "      <th>10</th>\n",
       "      <td>10</td>\n",
       "      <td>184</td>\n",
       "    </tr>\n",
       "    <tr>\n",
       "      <th>11</th>\n",
       "      <td>11</td>\n",
       "      <td>76</td>\n",
       "    </tr>\n",
       "  </tbody>\n",
       "</table>\n",
       "</div>"
      ],
      "text/plain": [
       "   month  count\n",
       "5      6    862\n",
       "8      7    786\n",
       "4      4    685\n",
       "3      3    667\n",
       "1      5    641\n",
       "6      8    617\n",
       "9      9    535\n",
       "2     12    510\n",
       "0      1    450\n",
       "7      2    350\n",
       "10    10    184\n",
       "11    11     76"
      ]
     },
     "execution_count": 134,
     "metadata": {},
     "output_type": "execute_result"
    }
   ],
   "source": [
    "#show count \n",
    "df_count"
   ]
  },
  {
   "cell_type": "code",
   "execution_count": 135,
   "metadata": {},
   "outputs": [
    {
     "data": {
      "image/png": "[encoded data removed]",
      "text/plain": [
       "<Figure size 720x360 with 1 Axes>"
      ]
     },
     "metadata": {},
     "output_type": "display_data"
    }
   ],
   "source": [
    "#visualizaton \n",
    "plt.figure(figsize = (10,5))\n",
    "plt.barh(df_count['month'],df_count['count'])\n",
    "plt.title('Number of publisher_print for each Month')\n",
    "plt.yticks(range(0,13));"
   ]
  },
  {
   "cell_type": "code",
   "execution_count": null,
   "metadata": {},
   "outputs": [],
   "source": []
  }
 ],
 "metadata": {
  "kernelspec": {
   "display_name": "Python 3",
   "language": "python",
   "name": "python3"
  },
  "language_info": {
   "codemirror_mode": {
    "name": "ipython",
    "version": 3
   },
   "file_extension": ".py",
   "mimetype": "text/x-python",
   "name": "python",
   "nbconvert_exporter": "python",
   "pygments_lexer": "ipython3",
   "version": "3.8.5"
  }
 },
 "nbformat": 4,
 "nbformat_minor": 4
}
